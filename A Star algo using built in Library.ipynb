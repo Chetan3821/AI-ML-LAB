{
 "cells": [
  {
   "cell_type": "code",
   "execution_count": null,
   "id": "271adfac",
   "metadata": {},
   "outputs": [],
   "source": [
    "pip install heuristicsearch"
   ]
  },
  {
   "cell_type": "code",
   "execution_count": 2,
   "id": "9581ecd0",
   "metadata": {},
   "outputs": [
    {
     "name": "stdout",
     "output_type": "stream",
     "text": [
      "Path\n",
      "A -> F -> G -> I -> J\n",
      "Cost\n",
      "0 -> 3 -> 4 -> 7 -> 10\n"
     ]
    }
   ],
   "source": [
    "from heuristicsearch.a_star_search import AStar\n",
    "graph_nodes = {\n",
    "'A': [('B', 6), ('F', 3)],\n",
    "'B': [('C', 3), ('D', 2)],\n",
    "'C': [('D', 1), ('E', 5)],\n",
    "'D': [('C', 1), ('E', 8)],\n",
    "'E': [('I', 5), ('J', 5)],\n",
    "'F': [('G', 1),('H', 7)] ,\n",
    "'G': [('I', 3)],\n",
    "'H': [('I', 2)],\n",
    "'I': [('E', 5), ('J', 3)],\n",
    "}\n",
    "heuristics = {\n",
    "'A': 10,\n",
    "'B': 8,\n",
    "'C': 5,\n",
    "'D': 7,\n",
    "'E': 3,\n",
    "'F': 6,\n",
    "'G': 5,\n",
    "'H': 3,\n",
    "'I': 1,\n",
    "'J': 0\n",
    "}\n",
    "graph= AStar(graph_nodes,heuristics)\n",
    "graph.apply_a_star(start='A', stop='J')"
   ]
  },
  {
   "cell_type": "code",
   "execution_count": null,
   "id": "938f04a1",
   "metadata": {},
   "outputs": [],
   "source": []
  }
 ],
 "metadata": {
  "kernelspec": {
   "display_name": "Python 3 (ipykernel)",
   "language": "python",
   "name": "python3"
  },
  "language_info": {
   "codemirror_mode": {
    "name": "ipython",
    "version": 3
   },
   "file_extension": ".py",
   "mimetype": "text/x-python",
   "name": "python",
   "nbconvert_exporter": "python",
   "pygments_lexer": "ipython3",
   "version": "3.10.6"
  }
 },
 "nbformat": 4,
 "nbformat_minor": 5
}
